{
 "cells": [
  {
   "cell_type": "markdown",
   "metadata": {},
   "source": [
    "# Demo - Time Series Symbolization with VMO"
   ]
  },
  {
   "cell_type": "code",
   "execution_count": 1,
   "metadata": {
    "collapsed": true
   },
   "outputs": [],
   "source": [
    "%load_ext autoreload\n",
    "%autoreload 2"
   ]
  },
  {
   "cell_type": "code",
   "execution_count": 2,
   "metadata": {
    "collapsed": true
   },
   "outputs": [],
   "source": [
    "import vmo\n",
    "\n",
    "import numpy as np\n",
    "import matplotlib.pyplot as plt\n",
    "from hmmlearn.hmm import GaussianHMM\n",
    "from sklearn.cluster import KMeans\n",
    "from sklearn import datasets\n",
    "\n",
    "import warnings\n",
    "warnings.filterwarnings('ignore')\n",
    "%matplotlib inline"
   ]
  },
  {
   "cell_type": "markdown",
   "metadata": {},
   "source": [
    "## Generate Swirl Circle Data"
   ]
  },
  {
   "cell_type": "code",
   "execution_count": 3,
   "metadata": {
    "collapsed": true
   },
   "outputs": [],
   "source": [
    "n_samples = 100\n",
    "np.random.seed(0)\n",
    "t = 1.5 * np.pi * (1 + 3 * np.random.rand(1,n_samples))\n",
    "x = t * np.cos(t)\n",
    "y = t * np.sin(t)\n",
    "\n",
    "X = np.concatenate((x, y))\n",
    "X += 1. * np.random.randn(2, n_samples)\n",
    "X = X.T\n",
    "idx = np.argsort(t[0,:])\n",
    "X = X[idx]\n",
    "t = np.sort(t)\n",
    "\n",
    "x_feature = X"
   ]
  },
  {
   "cell_type": "markdown",
   "metadata": {},
   "source": [
    "## VMO"
   ]
  },
  {
   "cell_type": "code",
   "execution_count": 4,
   "metadata": {
    "collapsed": true
   },
   "outputs": [],
   "source": [
    "r_x = (0.0, 4, 0.05) \n",
    "ideal_x = vmo.find_threshold(x_feature, r_x, dim=x_feature.shape[1])\n",
    "oracle_x = vmo.build_oracle(x_feature, flag = 'a', \n",
    "                            threshold = ideal_x[0][1], \n",
    "                            feature = 'skel',\n",
    "                            dim=x_feature.shape[1])"
   ]
  },
  {
   "cell_type": "markdown",
   "metadata": {},
   "source": [
    "## HMM-GMM"
   ]
  },
  {
   "cell_type": "code",
   "execution_count": 7,
   "metadata": {
    "collapsed": false
   },
   "outputs": [],
   "source": [
    "model_x = GaussianHMM(len(oracle_x.latent), covariance_type=\"diag\", n_iter=1000)\n",
    "model_x.fit(x_feature)\n",
    "hidden_states_x = model_x.predict(x_feature)"
   ]
  },
  {
   "cell_type": "markdown",
   "metadata": {},
   "source": [
    "## K-Means"
   ]
  },
  {
   "cell_type": "code",
   "execution_count": null,
   "metadata": {
    "collapsed": true
   },
   "outputs": [],
   "source": [
    "n_components_x = len(oracle_x.latent)\n",
    "kmean_x = KMeans(n_clusters = n_components_x/2, init = 'k-means++', n_init = 10)\n",
    "kmean_x.fit(x_feature)\n",
    "k_cluster_x = kmean_x.predict(x_feature)"
   ]
  },
  {
   "cell_type": "markdown",
   "metadata": {},
   "source": [
    "## Plots"
   ]
  },
  {
   "cell_type": "code",
   "execution_count": null,
   "metadata": {
    "collapsed": true
   },
   "outputs": [],
   "source": [
    "bbox_args = dict(boxstyle=\"round\", fc=\"0.8\")\n",
    "arrow_args = dict(arrowstyle=\"->\")\n",
    "\n",
    "fig = plt.figure(figsize = (15,5))\n",
    "ax7 = fig.add_subplot(131)\n",
    "ax7.set_title('Symbolization with VMO', fontsize = 18)\n",
    "ax7.plot(X[:,0],X[:,1],'k--')\n",
    "ax7.scatter(X[:,0],X[:,1], c = np.array(oracle_x.data[1:]), cmap = 'jet', s = 150, edgecolors='none' )\n",
    "\n",
    "ax7.annotate('Start', xy=(0.15, 0.45),  xycoords='figure fraction',\n",
    "             xytext=(-20, 20), textcoords='offset points',\n",
    "             ha=\"right\", va=\"bottom\",\n",
    "             bbox=bbox_args,\n",
    "             arrowprops=arrow_args,fontsize = 14\n",
    "             )\n",
    "\n",
    "ax7.annotate('End', xy=(0.28, 0.4),  xycoords='figure fraction',\n",
    "             xytext=(20, 20), textcoords='offset points',\n",
    "             ha=\"left\", va=\"bottom\",\n",
    "             bbox=bbox_args,\n",
    "             arrowprops=arrow_args,fontsize = 14\n",
    "             )\n",
    "\n",
    "ax7.grid(b = 'on')\n",
    "ax7.set_xticklabels([])\n",
    "ax7.set_yticklabels([])\n",
    "\n",
    "ax8 = fig.add_subplot(132)\n",
    "ax8.set_title('Symbolization with HMM',fontsize = 18)\n",
    "ax8.plot(X[:,0],X[:,1],'k--')\n",
    "ax8.scatter(X[:,0],X[:,1], c = hidden_states_x, cmap = 'jet', s = 150, edgecolors='none')\n",
    "ax8.grid(b = 'on')\n",
    "ax8.set_xticklabels([])\n",
    "ax8.set_yticklabels([])\n",
    "\n",
    "ax9 = fig.add_subplot(133)\n",
    "ax9.set_title('Symbolization with k-means',fontsize = 18)\n",
    "ax9.plot(X[:,0],X[:,1],'k--')\n",
    "ax9.scatter(X[:,0],X[:,1], c = k_cluster_x, cmap = 'jet', s = 150, edgecolors='none')\n",
    "ax9.grid(b = 'on')\n",
    "ax9.set_xticklabels([])\n",
    "ax9.set_yticklabels([])\n",
    "\n",
    "fig.tight_layout()"
   ]
  },
  {
   "cell_type": "markdown",
   "metadata": {},
   "source": [
    "## Print Out Symbolized Sequence from VMO, HMM-GMM and K-means"
   ]
  },
  {
   "cell_type": "code",
   "execution_count": null,
   "metadata": {
    "collapsed": true
   },
   "outputs": [],
   "source": [
    "print oracle_x.data[1:]\n",
    "print hidden_states_x\n",
    "print k_cluster_x"
   ]
  }
 ],
 "metadata": {
  "kernelspec": {
   "display_name": "Python 2",
   "language": "python",
   "name": "python2"
  },
  "language_info": {
   "codemirror_mode": {
    "name": "ipython",
    "version": 2
   },
   "file_extension": ".py",
   "mimetype": "text/x-python",
   "name": "python",
   "nbconvert_exporter": "python",
   "pygments_lexer": "ipython2",
   "version": "2.7.12"
  }
 },
 "nbformat": 4,
 "nbformat_minor": 0
}
